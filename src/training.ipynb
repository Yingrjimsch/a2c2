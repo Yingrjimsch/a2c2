{
 "cells": [
  {
   "cell_type": "code",
   "execution_count": null,
   "metadata": {},
   "outputs": [],
   "source": [
    "from ultralytics import YOLO\n",
    "\n",
    "yolo = YOLO('yolov8n.pt')\n",
    "yolo.train(data='C:/dev/school/a2c2/a2c2_prompts/data.yaml', epochs=5)\n",
    "valid_results = yolo.val()\n",
    "print(valid_results)"
   ]
  },
  {
   "cell_type": "code",
   "execution_count": null,
   "metadata": {},
   "outputs": [],
   "source": [
    "from huggingface_hub import login, HfApi, upload_folder\n",
    "\n",
    "# Step 1: Login to Hugging Face\n",
    "login(token=\"hf_token\")\n",
    "\n",
    "# Step 2: Define your repository details\n",
    "repo_id = \"yingrjimsch/a2c2-yolo-grounding\"  # Change to your username and desired model name\n",
    "\n",
    "# Step 3: Create the repository\n",
    "api = HfApi()\n",
    "api.create_repo(repo_id=repo_id, private=True)  # Set private=False if you want the model to be public\n",
    "\n",
    "# Step 4: Path to your model directory\n",
    "local_model_path = \"runs/detect/train7/weights/\"  # Path to your YOLOv8 model directory\n",
    "\n",
    "# Step 5: Upload the model\n",
    "upload_folder(\n",
    "    folder_path=local_model_path,\n",
    "    repo_id=repo_id,\n",
    "    commit_message=\"Initial model upload\"\n",
    ")"
   ]
  },
  {
   "cell_type": "code",
   "execution_count": null,
   "metadata": {},
   "outputs": [],
   "source": [
    "#%pip install ultralytics \"ray[tune]\" wandb\n",
    "from ultralytics import YOLO\n",
    "import matplotlib.pyplot as plt\n",
    "import os\n",
    "os.environ[\"WANDB_API_KEY\"] = \"api-key\"\n",
    "# Load a YOLOv8n model\n",
    "model = YOLO(\"yolov8n.pt\")\n",
    "\n",
    "# Start tuning hyperparameters for YOLOv8n training on the COCO8 dataset\n",
    "result_grid = model.tune(data='/Users/rebekka/Development/a2c2/a2c2_prompts/data.yaml', use_ray=True, )\n"
   ]
  },
  {
   "cell_type": "code",
   "execution_count": null,
   "metadata": {},
   "outputs": [],
   "source": [
    "for i, result in enumerate(result_grid):\n",
    "    plt.plot(\n",
    "        result.metrics_dataframe[\"training_iteration\"],\n",
    "        result.metrics_dataframe[\"metrics/precision(B)\"],\n",
    "        label=f\"Trial {i}\",\n",
    "    )\n",
    "\n",
    "plt.xlabel(\"Training Iterations\")\n",
    "plt.ylabel(\"metrics/precision(B)\")\n",
    "plt.legend()\n",
    "plt.show()"
   ]
  },
  {
   "cell_type": "code",
   "execution_count": null,
   "metadata": {},
   "outputs": [],
   "source": [
    "for i, result in enumerate(result_grid):\n",
    "    plt.plot(\n",
    "        result.metrics_dataframe[\"training_iteration\"],\n",
    "        result.metrics_dataframe[\"metrics/recall(B)\"],\n",
    "        label=f\"Trial {i}\",\n",
    "    )\n",
    "\n",
    "plt.xlabel(\"Training Iterations\")\n",
    "plt.ylabel(\"metrics/recall(B)\")\n",
    "plt.legend()\n",
    "plt.show()"
   ]
  },
  {
   "cell_type": "code",
   "execution_count": null,
   "metadata": {},
   "outputs": [],
   "source": [
    "for i, result in enumerate(result_grid):\n",
    "    plt.plot(\n",
    "        result.metrics_dataframe[\"training_iteration\"],\n",
    "        result.metrics_dataframe[\"metrics/mAP50(B)\"],\n",
    "        label=f\"Trial {i}\",\n",
    "    )\n",
    "\n",
    "plt.xlabel(\"Training Iterations\")\n",
    "plt.ylabel(\"metrics/mAP50(B)\")\n",
    "plt.legend()\n",
    "plt.show()"
   ]
  },
  {
   "cell_type": "code",
   "execution_count": null,
   "metadata": {},
   "outputs": [],
   "source": [
    "for i, result in enumerate(result_grid):\n",
    "    plt.plot(\n",
    "        result.metrics_dataframe[\"training_iteration\"],\n",
    "        result.metrics_dataframe[\"metrics/mAP50-95(B)\"],\n",
    "        label=f\"Trial {i}\",\n",
    "    )\n",
    "\n",
    "plt.xlabel(\"Training Iterations\")\n",
    "plt.ylabel(\"metrics/mAP50-95(B)\")\n",
    "plt.legend()\n",
    "plt.show()"
   ]
  },
  {
   "cell_type": "code",
   "execution_count": null,
   "metadata": {},
   "outputs": [],
   "source": [
    "for i, result in enumerate(result_grid):\n",
    "    plt.plot(\n",
    "        result.metrics_dataframe[\"training_iteration\"],\n",
    "        result.metrics_dataframe[\"val/cls_loss\"],\n",
    "        label=f\"Trial {i}\",\n",
    "    )\n",
    "\n",
    "plt.xlabel(\"Training Iterations\")\n",
    "plt.ylabel(\"val/cls_loss\")\n",
    "plt.legend()\n",
    "plt.show()"
   ]
  },
  {
   "cell_type": "code",
   "execution_count": null,
   "metadata": {},
   "outputs": [],
   "source": [
    "for i, result in enumerate(result_grid):\n",
    "    plt.plot(\n",
    "        result.metrics_dataframe[\"training_iteration\"],\n",
    "        result.metrics_dataframe[\"val/dfl_loss\"],\n",
    "        label=f\"Trial {i}\",\n",
    "    )\n",
    "\n",
    "plt.xlabel(\"Training Iterations\")\n",
    "plt.ylabel(\"val/dfl_loss\")\n",
    "plt.legend()\n",
    "plt.show()"
   ]
  },
  {
   "cell_type": "code",
   "execution_count": null,
   "metadata": {},
   "outputs": [],
   "source": [
    "# Beispiel, um die verfügbaren Spalten in result.metrics_dataframe zu drucken\n",
    "for i, result in enumerate(result_grid):\n",
    "    print(f\"Spalten für Trial {i}: {result.metrics_dataframe.columns}\")\n"
   ]
  }
 ],
 "metadata": {
  "kernelspec": {
   "display_name": "Python 3",
   "language": "python",
   "name": "python3"
  },
  "language_info": {
   "codemirror_mode": {
    "name": "ipython",
    "version": 3
   },
   "file_extension": ".py",
   "mimetype": "text/x-python",
   "name": "python",
   "nbconvert_exporter": "python",
   "pygments_lexer": "ipython3",
   "version": "3.11.7"
  }
 },
 "nbformat": 4,
 "nbformat_minor": 2
}
